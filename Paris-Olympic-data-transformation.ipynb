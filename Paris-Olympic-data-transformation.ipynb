{
 "cells": [
  {
   "cell_type": "code",
   "execution_count": null,
   "metadata": {
    "application/vnd.databricks.v1+cell": {
     "cellMetadata": {
      "byteLimit": 2048000,
      "rowLimit": 10000
     },
     "inputWidgets": {},
     "nuid": "cd8b6902-72a0-414b-b5c7-a617cf3a56ee",
     "showTitle": false,
     "title": ""
    }
   },
   "outputs": [],
   "source": [
    "configs = {\"fs.azure.account.auth.type\": \"OAuth\",\n",
    "\"fs.azure.account.oauth.provider.type\": \"org.apache.hadoop.fs.azurebfs.oauth2.ClientCredsTokenProvider\",\n",
    "\"fs.azure.account.oauth2.client.id\": \"client_ID\",\n",
    "\"fs.azure.account.oauth2.client.secret\": 'SecretKey',\n",
    "\"fs.azure.account.oauth2.client.endpoint\": \"https://login.microsoftonline.com/TenantID/oauth2/token\"}"
   ]
  },
  {
   "cell_type": "code",
   "execution_count": null,
   "metadata": {},
   "outputs": [],
   "source": [
    "dbutils.fs.mount(\n",
    "source = \"abfss://parisolympicdata@parisolympicsds.dfs.core.windows.net\", \n",
    "mount_point = \"/mnt/parisOlympics\",\n",
    "extra_configs = configs)"
   ]
  },
  {
   "cell_type": "code",
   "execution_count": null,
   "metadata": {
    "application/vnd.databricks.v1+cell": {
     "cellMetadata": {
      "byteLimit": 2048000,
      "rowLimit": 10000
     },
     "inputWidgets": {},
     "nuid": "4132961c-47f7-4909-b740-3281ce496c8f",
     "showTitle": false,
     "title": ""
    }
   },
   "outputs": [
    {
     "data": {
      "text/html": [
       "<style scoped>\n",
       "  .table-result-container {\n",
       "    max-height: 300px;\n",
       "    overflow: auto;\n",
       "  }\n",
       "  table, th, td {\n",
       "    border: 1px solid black;\n",
       "    border-collapse: collapse;\n",
       "  }\n",
       "  th, td {\n",
       "    padding: 5px;\n",
       "  }\n",
       "  th {\n",
       "    text-align: left;\n",
       "  }\n",
       "</style><div class='table-result-container'><table class='table-result'><thead style='background-color: white'><tr><th>path</th><th>name</th><th>size</th><th>modificationTime</th></tr></thead><tbody><tr><td>dbfs:/mnt/parisOlympics/raw-data/</td><td>raw-data/</td><td>0</td><td>1725372255000</td></tr><tr><td>dbfs:/mnt/parisOlympics/transformed-data/</td><td>transformed-data/</td><td>0</td><td>1725372289000</td></tr></tbody></table></div>"
      ]
     },
     "metadata": {
      "application/vnd.databricks.v1+output": {
       "addedWidgets": {},
       "aggData": [],
       "aggError": "",
       "aggOverflow": false,
       "aggSchema": [],
       "aggSeriesLimitReached": false,
       "aggType": "",
       "arguments": {},
       "columnCustomDisplayInfos": {},
       "data": [
        [
         "dbfs:/mnt/parisOlympics/raw-data/",
         "raw-data/",
         0,
         1725372255000
        ],
        [
         "dbfs:/mnt/parisOlympics/transformed-data/",
         "transformed-data/",
         0,
         1725372289000
        ]
       ],
       "datasetInfos": [],
       "dbfsResultPath": null,
       "isJsonSchema": true,
       "metadata": {},
       "overflow": false,
       "plotOptions": {
        "customPlotOptions": {},
        "displayType": "table",
        "pivotAggregation": null,
        "pivotColumns": null,
        "xColumns": null,
        "yColumns": null
       },
       "removedWidgets": [],
       "schema": [
        {
         "metadata": "{}",
         "name": "path",
         "type": "\"string\""
        },
        {
         "metadata": "{}",
         "name": "name",
         "type": "\"string\""
        },
        {
         "metadata": "{}",
         "name": "size",
         "type": "\"long\""
        },
        {
         "metadata": "{}",
         "name": "modificationTime",
         "type": "\"long\""
        }
       ],
       "type": "table"
      }
     },
     "output_type": "display_data"
    }
   ],
   "source": [
    "display(dbutils.fs.ls(\"/mnt/parisOlympics\"))"
   ]
  },
  {
   "cell_type": "code",
   "execution_count": null,
   "metadata": {
    "application/vnd.databricks.v1+cell": {
     "cellMetadata": {
      "byteLimit": 2048000,
      "rowLimit": 10000
     },
     "inputWidgets": {},
     "nuid": "a593e747-f32a-4986-8e6d-44ba86712e7b",
     "showTitle": false,
     "title": ""
    }
   },
   "outputs": [
    {
     "data": {
      "text/html": [
       "\n",
       "            <div>\n",
       "                <p><b>SparkSession - hive</b></p>\n",
       "                \n",
       "        <div>\n",
       "            <p><b>SparkContext</b></p>\n",
       "\n",
       "            <p><a href=\"/?o=1235128637577801#setting/sparkui/0903-232812-1a4rlqmh/driver-4467104007086744643\">Spark UI</a></p>\n",
       "\n",
       "            <dl>\n",
       "              <dt>Version</dt>\n",
       "                <dd><code>v3.5.0</code></dd>\n",
       "              <dt>Master</dt>\n",
       "                <dd><code>local[*, 4]</code></dd>\n",
       "              <dt>AppName</dt>\n",
       "                <dd><code>Databricks Shell</code></dd>\n",
       "            </dl>\n",
       "        </div>\n",
       "        \n",
       "            </div>\n",
       "        "
      ],
      "text/plain": [
       "<pyspark.sql.session.SparkSession at 0x7f9a078a7a60>"
      ]
     },
     "execution_count": 7,
     "metadata": {},
     "output_type": "execute_result"
    }
   ],
   "source": [
    "spark"
   ]
  },
  {
   "cell_type": "code",
   "execution_count": null,
   "metadata": {
    "application/vnd.databricks.v1+cell": {
     "cellMetadata": {
      "byteLimit": 2048000,
      "rowLimit": 10000
     },
     "inputWidgets": {},
     "nuid": "78d7f998-7b5c-41a7-b0da-da5b4450723a",
     "showTitle": false,
     "title": ""
    }
   },
   "outputs": [],
   "source": [
    "Athletes = spark.read.option(\"header\", \"true\").option(\"inferSchema\", \"true\").csv(\"/mnt/parisOlympics/raw-data/athletes.csv\")\n",
    "Coaches = spark.read.option(\"header\", \"true\").option(\"inferSchema\", \"true\").csv(\"/mnt/parisOlympics/raw-data/coaches.csv\")\n",
    "Country = spark.read.option(\"header\", \"true\").option(\"inferSchema\", \"true\").csv(\"/mnt/parisOlympics/raw-data/Country.csv\")\n",
    "Medalist = spark.read.option(\"header\", \"true\").option(\"inferSchema\", \"true\").csv(\"/mnt/parisOlympics/raw-data/medalist.csv\")\n",
    "Medals = spark.read.option(\"header\", \"true\").option(\"inferSchema\", \"true\").csv(\"/mnt/parisOlympics/raw-data/medals.csv\")\n",
    "MedalTotal = spark.read.option(\"header\", \"true\").option(\"inferSchema\", \"true\").csv(\"/mnt/parisOlympics/raw-data/MedalTotal.csv\")\n"
   ]
  },
  {
   "cell_type": "code",
   "execution_count": null,
   "metadata": {
    "application/vnd.databricks.v1+cell": {
     "cellMetadata": {
      "byteLimit": 2048000,
      "rowLimit": 10000
     },
     "inputWidgets": {},
     "nuid": "3a796961-9e2e-49f6-b265-38125c68b8d3",
     "showTitle": false,
     "title": ""
    }
   },
   "outputs": [
    {
     "name": "stdout",
     "output_type": "stream",
     "text": [
      "+------------+-------------+--------------------+----------+------------+------------+-----+\n",
      "|country_code|      country|        country_long|Gold Medal|Silver Medal|Bronze Medal|Total|\n",
      "+------------+-------------+--------------------+----------+------------+------------+-----+\n",
      "|         USA|United States|United States of ...|        40|          44|          42|  126|\n",
      "|         CHN|        China|People's Republic...|        40|          27|          24|   91|\n",
      "|         JPN|        Japan|               Japan|        20|          12|          13|   45|\n",
      "|         AUS|    Australia|           Australia|        18|          19|          16|   53|\n",
      "|         FRA|       France|              France|        16|          26|          22|   64|\n",
      "|         NED|  Netherlands|         Netherlands|        15|           7|          12|   34|\n",
      "|         GBR|Great Britain|       Great Britain|        14|          22|          29|   65|\n",
      "|         KOR|        Korea|   Republic of Korea|        13|           9|          10|   32|\n",
      "|         ITA|        Italy|               Italy|        12|          13|          15|   40|\n",
      "|         GER|      Germany|             Germany|        12|          13|           8|   33|\n",
      "|         NZL|  New Zealand|         New Zealand|        10|           7|           3|   20|\n",
      "|         CAN|       Canada|              Canada|         9|           7|          11|   27|\n",
      "|         UZB|   Uzbekistan|          Uzbekistan|         8|           2|           3|   13|\n",
      "|         HUN|      Hungary|             Hungary|         6|           7|           6|   19|\n",
      "|         ESP|        Spain|               Spain|         5|           4|           9|   18|\n",
      "|         SWE|       Sweden|              Sweden|         4|           4|           3|   11|\n",
      "|         KEN|        Kenya|               Kenya|         4|           2|           5|   11|\n",
      "|         NOR|       Norway|              Norway|         4|           1|           3|    8|\n",
      "|         IRL|      Ireland|             Ireland|         4|           0|           3|    7|\n",
      "|         BRA|       Brazil|              Brazil|         3|           7|          10|   20|\n",
      "+------------+-------------+--------------------+----------+------------+------------+-----+\n",
      "only showing top 20 rows\n",
      "\n"
     ]
    }
   ],
   "source": [
    "MedalTotal.show()"
   ]
  },
  {
   "cell_type": "code",
   "execution_count": null,
   "metadata": {
    "application/vnd.databricks.v1+cell": {
     "cellMetadata": {
      "byteLimit": 2048000,
      "rowLimit": 10000
     },
     "inputWidgets": {},
     "nuid": "4d76a13a-3efd-4fb5-b884-9bd74766386e",
     "showTitle": false,
     "title": ""
    }
   },
   "outputs": [],
   "source": [
    "Athletes = Athletes.drop('current')\n",
    "Coaches = Coaches.drop('current', 'category', 'country', 'country_long')\n",
    "Medalist = Medalist.drop('medal_date', 'medal_code', 'url_event', 'is_medallist')\n",
    "Medals = Medals.drop('url_event', 'country', 'country_long')\n"
   ]
  },
  {
   "cell_type": "code",
   "execution_count": null,
   "metadata": {
    "application/vnd.databricks.v1+cell": {
     "cellMetadata": {
      "byteLimit": 2048000,
      "rowLimit": 10000
     },
     "inputWidgets": {},
     "nuid": "9e8f0aea-6cde-4257-b752-fd1ff44a8219",
     "showTitle": false,
     "title": ""
    }
   },
   "outputs": [],
   "source": [
    "Athletes.write.mode(\"overwrite\").option(\"header\", \"true\").csv(\"/mnt/parisOlympics/transformed-data/athletes\")\n"
   ]
  },
  {
   "cell_type": "code",
   "execution_count": null,
   "metadata": {
    "application/vnd.databricks.v1+cell": {
     "cellMetadata": {
      "byteLimit": 2048000,
      "rowLimit": 10000
     },
     "inputWidgets": {},
     "nuid": "ae68c016-1504-4c15-8bdd-af788d0e7738",
     "showTitle": false,
     "title": ""
    }
   },
   "outputs": [],
   "source": [
    "Coaches.write.mode(\"overwrite\").option(\"header\", \"true\").csv(\"/mnt/parisOlympics/transformed-data/coaches\")\n",
    "Country.write.mode(\"overwrite\").option(\"header\", \"true\").csv(\"/mnt/parisOlympics/transformed-data/country\")\n",
    "Medalist.write.mode(\"overwrite\").option(\"header\", \"true\").csv(\"/mnt/parisOlympics/transformed-data/medalist\")\n",
    "Medals.write.mode(\"overwrite\").option(\"header\", \"true\").csv(\"/mnt/parisOlympics/transformed-data/medals\")\n",
    "MedalTotal.write.mode(\"overwrite\").option(\"header\", \"true\").csv(\"/mnt/parisOlympics/transformed-data/medaltotal\")"
   ]
  },
  {
   "cell_type": "code",
   "execution_count": null,
   "metadata": {
    "application/vnd.databricks.v1+cell": {
     "cellMetadata": {},
     "inputWidgets": {},
     "nuid": "6e0c0d53-28c4-4fcc-8d1f-19d9826270ac",
     "showTitle": false,
     "title": ""
    }
   },
   "outputs": [],
   "source": []
  }
 ],
 "metadata": {
  "application/vnd.databricks.v1+notebook": {
   "dashboards": [],
   "environmentMetadata": {
    "base_environment": "",
    "client": "1"
   },
   "language": "python",
   "notebookMetadata": {
    "mostRecentlyExecutedCommandWithImplicitDF": {
     "commandId": -1,
     "dataframes": [
      "_sqldf"
     ]
    },
    "pythonIndentUnit": 4
   },
   "notebookName": "Paris-Olympic-data-transformation",
   "widgets": {}
  },
  "kernelspec": {
   "display_name": "Python 3 (ipykernel)",
   "language": "python",
   "name": "python3"
  },
  "language_info": {
   "codemirror_mode": {
    "name": "ipython",
    "version": 3
   },
   "file_extension": ".py",
   "mimetype": "text/x-python",
   "name": "python",
   "nbconvert_exporter": "python",
   "pygments_lexer": "ipython3",
   "version": "3.11.9"
  }
 },
 "nbformat": 4,
 "nbformat_minor": 4
}
